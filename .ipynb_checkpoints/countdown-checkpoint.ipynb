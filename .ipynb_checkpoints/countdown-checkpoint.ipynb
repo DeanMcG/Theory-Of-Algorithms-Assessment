{
 "cells": [
  {
   "cell_type": "markdown",
   "id": "74cf4808-f380-445a-9ca4-bc387f35f6ea",
   "metadata": {},
   "source": [
    "# Countdown Numbers Game"
   ]
  },
  {
   "cell_type": "markdown",
   "id": "8628f3a7-4b82-40ef-acc2-988bde33e6d0",
   "metadata": {},
   "source": [
    "### Playing with itertools"
   ]
  },
  {
   "cell_type": "code",
   "execution_count": 2,
   "id": "068fec6c-1f96-4a62-a708-94d100256854",
   "metadata": {},
   "outputs": [],
   "source": [
    "import itertools as it"
   ]
  },
  {
   "cell_type": "code",
   "execution_count": 9,
   "id": "bb0799d0-7477-4ac0-84fe-0473493fedd5",
   "metadata": {},
   "outputs": [
    {
     "data": {
      "text/plain": [
       "[(1, 2, 3, 4), (5, 6, 7, 8)]"
      ]
     },
     "execution_count": 9,
     "metadata": {},
     "output_type": "execute_result"
    }
   ],
   "source": [
    "#Not efficient, requires a lot of memory and time\n",
    "def naive_grouper(inputs, n):\n",
    "    num_groups = len(inputs) // n\n",
    "    return [tuple(inputs[i*n:(i+1)*n]) for i in range(num_groups)]\n",
    "\n",
    "nums = [1,2,3,4,5,6,7,8,9,10]\n",
    "naive_grouper(nums, 4)"
   ]
  },
  {
   "cell_type": "code",
   "execution_count": 11,
   "id": "7045798c-1a0c-49cc-8420-c33e1d9fadae",
   "metadata": {},
   "outputs": [
    {
     "data": {
      "text/plain": [
       "[(1, 2, 3, 4), (5, 6, 7, 8)]"
      ]
     },
     "execution_count": 11,
     "metadata": {},
     "output_type": "execute_result"
    }
   ],
   "source": [
    "#More efficient, requires much less memory and is quicker\n",
    "def better_grouper(inputs, n):\n",
    "    iters = [iter(inputs)] * n\n",
    "    return zip(*iters)\n",
    "\n",
    "nums = [1,2,3,4,5,6,7,8,9,10]\n",
    "list(better_grouper(nums, 4))"
   ]
  },
  {
   "cell_type": "code",
   "execution_count": 12,
   "id": "83c0dc78-d0ce-4166-a077-3cc0fea8f6da",
   "metadata": {},
   "outputs": [
    {
     "name": "stdout",
     "output_type": "stream",
     "text": [
      "[(1, 2, 3, 4), (5, 6, 7, 8), (9, 10, None, None)]\n"
     ]
    }
   ],
   "source": [
    "#This grouper accounts for n not being a factor of the length of list inputs\n",
    "def grouper(inputs, n, fillvalue=None):\n",
    "    iters = [iter(inputs)] * n\n",
    "    return it.zip_longest(*iters, fillvalue=fillvalue)\n",
    "\n",
    "nums = [1,2,3,4,5,6,7,8,9,10]\n",
    "print(list(grouper(nums, 4)))"
   ]
  },
  {
   "cell_type": "code",
   "execution_count": null,
   "id": "4714105b-95ad-43bf-9f96-59f0c1ebdf39",
   "metadata": {},
   "outputs": [],
   "source": []
  },
  {
   "cell_type": "markdown",
   "id": "d1c36455-5f18-4c0f-a271-cc4656da7297",
   "metadata": {},
   "source": [
    "## Change for 100"
   ]
  },
  {
   "cell_type": "markdown",
   "id": "3fe79ac5-0add-4972-91e4-9c5b225958b8",
   "metadata": {},
   "source": [
    "You have three \\\\$20 dollar bills, five \\\\$10 dollar bills, two \\\\$5 dollar bills, and five \\\\$1 dollar bills. How many ways can you make change for a \\\\$100 dollar bill?"
   ]
  },
  {
   "cell_type": "code",
   "execution_count": 13,
   "id": "f723243d-21e5-4071-a307-5207a25dc5c9",
   "metadata": {},
   "outputs": [],
   "source": [
    "#Firstly, list all bills available\n",
    "bills = [20, 20, 20, 10, 10, 10, 10, 10, 5, 5, 1, 1, 1, 1, 1]"
   ]
  },
  {
   "cell_type": "code",
   "execution_count": 16,
   "id": "45a6b984-019f-4972-9e24-0516108b18d8",
   "metadata": {},
   "outputs": [
    {
     "name": "stdout",
     "output_type": "stream",
     "text": [
      "44\n"
     ]
    }
   ],
   "source": [
    "#Empty list we will populate with possible combinations that sum to 100\n",
    "makes_100 = []\n",
    "\n",
    "#This loops through all integers in the range 1 to length of list bills + 1, and checks which combinations will sum to 100.\n",
    "# It then appends these correct combinations to the list makes_100\n",
    "for n in range(1, len(bills) + 1):\n",
    "    for combination in it.combinations(bills, n):\n",
    "        if sum(combination) == 100:\n",
    "            makes_100.append(combination)\n",
    "            \n",
    "print(len(makes_100))"
   ]
  },
  {
   "cell_type": "markdown",
   "id": "1dadb16c-24ad-44a7-be5e-bcda9ab5e4f2",
   "metadata": {},
   "source": [
    "There are 44 combinations of bills that can make 100 dollars from the bills we have. However, this is including the duplicate combinations. For example, three 20 dollar bills and four 10 dollar bills using the first,second,third,fourth 10 dollar bills and three 20 dollar bills with four 10 dollar bills using the second,third,fourth,fifth bills. These are the same combination. We must make it a set to remove these."
   ]
  },
  {
   "cell_type": "code",
   "execution_count": 17,
   "id": "5aa67544-76b4-4964-8967-9f75a617ab16",
   "metadata": {},
   "outputs": [
    {
     "data": {
      "text/plain": [
       "{(20, 20, 10, 10, 10, 10, 10, 5, 1, 1, 1, 1, 1),\n",
       " (20, 20, 10, 10, 10, 10, 10, 5, 5),\n",
       " (20, 20, 20, 10, 10, 10, 5, 1, 1, 1, 1, 1),\n",
       " (20, 20, 20, 10, 10, 10, 5, 5),\n",
       " (20, 20, 20, 10, 10, 10, 10)}"
      ]
     },
     "execution_count": 17,
     "metadata": {},
     "output_type": "execute_result"
    }
   ],
   "source": [
    "set(makes_100)"
   ]
  },
  {
   "cell_type": "markdown",
   "id": "be89e05e-ca15-46e6-bf5f-40c908c5dfd4",
   "metadata": {},
   "source": [
    "There are 5 unique combinations to make 100 from the bills we have."
   ]
  }
 ],
 "metadata": {
  "kernelspec": {
   "display_name": "Python 3",
   "language": "python",
   "name": "python3"
  },
  "language_info": {
   "codemirror_mode": {
    "name": "ipython",
    "version": 3
   },
   "file_extension": ".py",
   "mimetype": "text/x-python",
   "name": "python",
   "nbconvert_exporter": "python",
   "pygments_lexer": "ipython3",
   "version": "3.8.8"
  }
 },
 "nbformat": 4,
 "nbformat_minor": 5
}
