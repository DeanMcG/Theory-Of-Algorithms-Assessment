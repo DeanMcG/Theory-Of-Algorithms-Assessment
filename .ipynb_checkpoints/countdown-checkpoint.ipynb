{
 "cells": [
  {
   "cell_type": "markdown",
   "id": "74cf4808-f380-445a-9ca4-bc387f35f6ea",
   "metadata": {},
   "source": [
    "# Countdown Numbers Game"
   ]
  },
  {
   "cell_type": "markdown",
   "id": "dcea0578-f53f-4e93-ad37-b1758d3e5e5b",
   "metadata": {},
   "source": [
    "The countdown numbers game is a round on a popular TV show named \"Countdown\". The rules of the round are as follows. The contestants are presented with 6 numbers. These 6 numbers are used to create a target. This target is caculated by adding, subtracting, multiplying, and dividing using the 6 numbers given. The contestant may only use each number once to reach the target. However, not all numbers need to be used, the amount used is at the discretion of the contestant. The contestants have 30 seconds to complete their computations."
   ]
  }
 ],
 "metadata": {
  "kernelspec": {
   "display_name": "Python 3",
   "language": "python",
   "name": "python3"
  },
  "language_info": {
   "codemirror_mode": {
    "name": "ipython",
    "version": 3
   },
   "file_extension": ".py",
   "mimetype": "text/x-python",
   "name": "python",
   "nbconvert_exporter": "python",
   "pygments_lexer": "ipython3",
   "version": "3.8.8"
  }
 },
 "nbformat": 4,
 "nbformat_minor": 5
}
