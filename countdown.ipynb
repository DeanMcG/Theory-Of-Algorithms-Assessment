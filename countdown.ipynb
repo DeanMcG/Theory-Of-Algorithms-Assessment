{
 "cells": [
  {
   "cell_type": "markdown",
   "id": "74cf4808-f380-445a-9ca4-bc387f35f6ea",
   "metadata": {},
   "source": [
    "# Countdown Numbers Game"
   ]
  },
  {
   "cell_type": "markdown",
   "id": "dcea0578-f53f-4e93-ad37-b1758d3e5e5b",
   "metadata": {},
   "source": [
    "The countdown numbers game is a round on a popular TV show named \"Countdown\". The rules of the round are as follows. The contestants are presented with 6 numbers. The possible values of these 6 numbers are taken from this list {$100, 75, 50, 25, 9, 8, 7, 6, 5, 4, 3, 2, 1$} These 6 numbers are used to create a target. This target is caculated by adding, subtracting, multiplying, and dividing using the 6 numbers given. The contestant may only use each number once to reach the target. However, not all numbers need to be used, the amount used is at the discretion of the contestant. The contestants have 30 seconds to complete their computations."
   ]
  },
  {
   "cell_type": "markdown",
   "id": "0c99e1b8-6be7-41d2-92c3-f23de23cbef8",
   "metadata": {},
   "source": [
    "## Example of a Round"
   ]
  },
  {
   "cell_type": "markdown",
   "id": "72924114-23eb-409b-b934-b6aee8d5f36c",
   "metadata": {},
   "source": [
    "An example of a round could be {100, 2, 5, 6, 7, 8}"
   ]
  },
  {
   "cell_type": "markdown",
   "id": "744ddba5-f423-4038-9be4-daf2c89849ff",
   "metadata": {},
   "source": [
    "With a target of $562$"
   ]
  },
  {
   "cell_type": "markdown",
   "id": "694ae5e4-5503-461c-a60b-72903bc59631",
   "metadata": {},
   "source": [
    "This can be achieved using the following solution: $(100 X 5) + (8 X 7) + 6 = 562$"
   ]
  },
  {
   "cell_type": "markdown",
   "id": "27edd535-cac5-43c3-8239-c232393792fa",
   "metadata": {},
   "source": [
    "# Complexity Of The Game"
   ]
  },
  {
   "cell_type": "markdown",
   "id": "5d720672-3b63-4769-bbda-5526af95df98",
   "metadata": {},
   "source": [
    "The complexity of this game is fairly large. There are many permutations to go through with each round. There are 13,243 possible combinations that the tiles can be selected can be combined to make 10,871,986 distinct solutions of tiles and target numbers."
   ]
  },
  {
   "cell_type": "markdown",
   "id": "180370aa-e089-446b-9a21-980616e31f90",
   "metadata": {},
   "source": [
    "This makes brute force searching extremely resource heavy."
   ]
  },
  {
   "cell_type": "markdown",
   "id": "ccd0c8e0-a84d-47c0-8d07-a64c074556ed",
   "metadata": {},
   "source": [
    "From my research it seems Reverse Polish Notation is an efficient way to solve this problem. Reverse Polish Notation(RPN) is a mathematical notation in which operators follow their operands. The Shunting Yard Algorithm previously used in a past module produces whats known as a postfix notation string, also referred to as Reverse Polish Notation."
   ]
  },
  {
   "cell_type": "markdown",
   "id": "8b4e509b-24d3-421b-bd2b-387cd12c27fe",
   "metadata": {},
   "source": [
    "# Solving Countdown Numbers Game"
   ]
  },
  {
   "cell_type": "code",
   "execution_count": 60,
   "id": "7f915129-0e5a-465f-8610-093cfbcec975",
   "metadata": {},
   "outputs": [],
   "source": [
    "import itertools as it\n",
    "import random\n",
    "import operator"
   ]
  },
  {
   "cell_type": "code",
   "execution_count": 61,
   "id": "cb8b7dfd-5451-466b-88aa-24127ab16156",
   "metadata": {},
   "outputs": [
    {
     "name": "stdout",
     "output_type": "stream",
     "text": [
      "[100, 75, 50, 25]\n",
      "[1, 1, 2, 2, 3, 3, 4, 4, 5, 5, 6, 6, 7, 7, 8, 8, 9, 9, 10, 10]\n"
     ]
    }
   ],
   "source": [
    "#Choice of numbers\n",
    "\n",
    "large = [100, 75, 50, 25]\n",
    "small = sorted(list(range(1, 11)) * 2)\n",
    "\n",
    "print(large)\n",
    "print(small)"
   ]
  },
  {
   "cell_type": "code",
   "execution_count": 62,
   "id": "03901847-5bd7-4bc3-8793-78446bdb2e7a",
   "metadata": {},
   "outputs": [
    {
     "name": "stdout",
     "output_type": "stream",
     "text": [
      "[75, 25]\n",
      "[8, 4, 10, 7]\n"
     ]
    }
   ],
   "source": [
    "# Count of each type of number\n",
    "\n",
    "num_large = random.randrange(0, 5)\n",
    "\n",
    "large_rand = random.sample(large, num_large)\n",
    "small_rand = random.sample(small, 6 - num_large)\n",
    "\n",
    "print(large_rand)\n",
    "print(small_rand)"
   ]
  },
  {
   "cell_type": "code",
   "execution_count": 63,
   "id": "da8a20e2-7923-4404-aac3-406d884c4a8f",
   "metadata": {},
   "outputs": [
    {
     "data": {
      "text/plain": [
       "[75, 25, 8, 4, 10, 7]"
      ]
     },
     "execution_count": 63,
     "metadata": {},
     "output_type": "execute_result"
    }
   ],
   "source": [
    "numbers_on_board = large_rand + small_rand\n",
    "numbers_on_board"
   ]
  },
  {
   "cell_type": "code",
   "execution_count": 64,
   "id": "d00a3a00-05e6-4868-aca8-6d8585b72f7d",
   "metadata": {},
   "outputs": [
    {
     "data": {
      "text/plain": [
       "405"
      ]
     },
     "execution_count": 64,
     "metadata": {},
     "output_type": "execute_result"
    }
   ],
   "source": [
    "# Picking random target - between 101 and 999 as these are the only targets possible in the game\n",
    "target = random.randrange(101, 1000)\n",
    "target"
   ]
  },
  {
   "cell_type": "code",
   "execution_count": 65,
   "id": "841e9766-6d55-472e-8316-433b38431389",
   "metadata": {},
   "outputs": [],
   "source": [
    "# Function for creating new numbers board\n",
    "\n",
    "def new_game(num_large = None):\n",
    "    if num_large is None:\n",
    "        num_large = random.randrange(0, 5)\n",
    "        \n",
    "    large_rand = random.sample(large, num_large)\n",
    "    small_rand = random.sample(small, 6 - num_large)\n",
    "    numbers_on_game = large_rand + small_rand\n",
    "    target = random.randrange(101, 1000)\n",
    "    \n",
    "    return numbers_on_game ,target"
   ]
  },
  {
   "cell_type": "code",
   "execution_count": 66,
   "id": "6c89d804-5117-4f91-9ffe-bab32a041207",
   "metadata": {},
   "outputs": [],
   "source": [
    "numbers_on_game, target = new_game()"
   ]
  },
  {
   "cell_type": "code",
   "execution_count": 67,
   "id": "fb55ec3b-0d2c-4a80-8716-223ef6b7d933",
   "metadata": {},
   "outputs": [
    {
     "name": "stdout",
     "output_type": "stream",
     "text": [
      "[100, 50, 8, 10, 3, 7]\n"
     ]
    }
   ],
   "source": [
    "print(numbers_on_game)"
   ]
  },
  {
   "cell_type": "code",
   "execution_count": 68,
   "id": "ae610888-ee8b-479f-acec-8a0b62fcc33e",
   "metadata": {},
   "outputs": [
    {
     "name": "stdout",
     "output_type": "stream",
     "text": [
      "982\n"
     ]
    }
   ],
   "source": [
    "print(target)"
   ]
  },
  {
   "cell_type": "code",
   "execution_count": 87,
   "id": "c92cbb49-9b9f-4094-87f2-769b591f4a68",
   "metadata": {},
   "outputs": [],
   "source": [
    "\n",
    "\n",
    "# Operators\n",
    "add = lambda x,y: x+y\n",
    "sub = lambda x,y: x-y\n",
    "mul = lambda x,y: x*y\n",
    "div = lambda x,y: x/y if x % y == 0 else 0/0\n",
    "\n",
    "possible_operations = [ (add, '+'),\n",
    "               (sub, '-'),\n",
    "               (mul, '*'),\n",
    "               (div, '/')]"
   ]
  },
  {
   "cell_type": "code",
   "execution_count": 88,
   "id": "8b603cfd-863a-4060-a1ca-17dd051b4409",
   "metadata": {},
   "outputs": [],
   "source": [
    "def eval_rpn(stack):\n",
    "    try:\n",
    "        \n",
    "        total = 0\n",
    "        operation = add\n",
    "        \n",
    "        for i in heap:\n",
    "            # Check if it's an integer\n",
    "            if type(i) is int:\n",
    "                total = operation(total, i)\n",
    "            else:\n",
    "                operation = i[0]\n",
    "        \n",
    "        # Returning the total\n",
    "        return total\n",
    "    except:\n",
    "        return 0"
   ]
  },
  {
   "cell_type": "code",
   "execution_count": 89,
   "id": "8b43830e-51c8-475d-9830-c7137cf45377",
   "metadata": {},
   "outputs": [],
   "source": [
    "def return_stack(stack):\n",
    "    reps = [ str(i) if type(i) is int else i[1] for i in stack ]\n",
    "    return ' '.join(reps)"
   ]
  },
  {
   "cell_type": "code",
   "execution_count": 94,
   "id": "29230b74-18c3-42e2-a6c1-9532e338dc04",
   "metadata": {},
   "outputs": [],
   "source": [
    "\n",
    "# Solving the countdown numbers game\n",
    "def solver(numbers_on_game, target):\n",
    "    \n",
    "    # Give all 2-partitions of a list, where each sublist has one element.\n",
    "    def iterative(stack, numbers_on_game):\n",
    "        # Loop through all the ways to partition L into two non-empty sublists\n",
    "        for r in range(len(numbers_on_game)):\n",
    "            # Append to the stack.\n",
    "            stack.append( numbers_on_game[r] )\n",
    "            extra = numbers_on_game[:r] + numbers_on_game[r+1:]\n",
    "\n",
    "            if eval_rpn(stack) == target:\n",
    "                print(return_stack(stack))\n",
    "            \n",
    "\n",
    "            if len(extra) > 0:\n",
    "                for s in possible_operations:\n",
    "                    stack.append(s)\n",
    "                    stack = iterative(stack, extra)\n",
    "                    stack = stack[:-1]\n",
    "            \n",
    "\n",
    "            stack = stack[:-1]\n",
    "\n",
    "\n",
    "        return stack\n",
    "\n",
    "    iterative([], numbers_on_game)"
   ]
  },
  {
   "cell_type": "code",
   "execution_count": 97,
   "id": "1c826291-27f2-48b7-88b9-babd1ca93dda",
   "metadata": {},
   "outputs": [
    {
     "name": "stdout",
     "output_type": "stream",
     "text": [
      "Numbers on the board: [100, 50, 8, 10, 3, 7]\n",
      "Target: 982\n",
      "100 + 7 - 3 * 10 - 50 - 8\n",
      "100 + 7 - 3 * 10 - 8 - 50\n",
      "100 - 3 + 7 * 10 - 50 - 8\n",
      "100 - 3 + 7 * 10 - 8 - 50\n",
      "100 * 10 - 8 - 3 - 7\n",
      "100 * 10 - 8 - 7 - 3\n",
      "100 * 10 - 3 - 8 - 7\n",
      "100 * 10 - 3 - 7 - 8\n",
      "100 * 10 - 7 - 8 - 3\n",
      "100 * 10 - 7 - 3 - 8\n",
      "50 - 8 * 3 * 7 + 100\n",
      "50 - 8 * 7 * 3 + 100\n",
      "50 - 7 * 10 - 100 * 3 - 8\n",
      "10 * 100 - 8 - 3 - 7\n",
      "10 * 100 - 8 - 7 - 3\n",
      "10 * 100 - 3 - 8 - 7\n",
      "10 * 100 - 3 - 7 - 8\n",
      "10 * 100 - 7 - 8 - 3\n",
      "10 * 100 - 7 - 3 - 8\n",
      "3 + 7 * 100 - 8 - 10\n",
      "3 + 7 * 100 - 10 - 8\n",
      "7 + 100 - 3 * 10 - 50 - 8\n",
      "7 + 100 - 3 * 10 - 8 - 50\n",
      "7 + 3 * 100 - 8 - 10\n",
      "7 + 3 * 100 - 10 - 8\n",
      "7 - 3 + 100 * 10 - 50 - 8\n",
      "7 - 3 + 100 * 10 - 8 - 50\n"
     ]
    }
   ],
   "source": [
    "print(\"Numbers on the board: {}\".format(numbers_on_game))\n",
    "print(\"Target: {}\".format(target))\n",
    "solver(numbers_on_game, target)"
   ]
  },
  {
   "cell_type": "code",
   "execution_count": null,
   "id": "b5ebf576-5341-41a2-a157-40a92ea65a83",
   "metadata": {},
   "outputs": [],
   "source": []
  }
 ],
 "metadata": {
  "kernelspec": {
   "display_name": "Python 3",
   "language": "python",
   "name": "python3"
  },
  "language_info": {
   "codemirror_mode": {
    "name": "ipython",
    "version": 3
   },
   "file_extension": ".py",
   "mimetype": "text/x-python",
   "name": "python",
   "nbconvert_exporter": "python",
   "pygments_lexer": "ipython3",
   "version": "3.8.8"
  }
 },
 "nbformat": 4,
 "nbformat_minor": 5
}
