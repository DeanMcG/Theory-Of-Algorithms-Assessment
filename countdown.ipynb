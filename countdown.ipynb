{
 "cells": [
  {
   "cell_type": "markdown",
   "id": "74cf4808-f380-445a-9ca4-bc387f35f6ea",
   "metadata": {},
   "source": [
    "# Countdown Numbers Game"
   ]
  },
  {
   "cell_type": "markdown",
   "id": "dcea0578-f53f-4e93-ad37-b1758d3e5e5b",
   "metadata": {},
   "source": [
    "The countdown numbers game is a round on a popular TV show named \"Countdown\". The rules of the round are as follows. The contestants are presented with 6 numbers. The possible values of these 6 numbers are taken from this list {$100, 75, 50, 25, 9, 8, 7, 6, 5, 4, 3, 2, 1$} These 6 numbers are used to create a target. This target is caculated by adding, subtracting, multiplying, and dividing using the 6 numbers given. The contestant may only use each number once to reach the target. However, not all numbers need to be used, the amount used is at the discretion of the contestant. The contestants have 30 seconds to complete their computations."
   ]
  },
  {
   "cell_type": "markdown",
   "id": "0c99e1b8-6be7-41d2-92c3-f23de23cbef8",
   "metadata": {},
   "source": [
    "## Example of a Round"
   ]
  },
  {
   "cell_type": "markdown",
   "id": "72924114-23eb-409b-b934-b6aee8d5f36c",
   "metadata": {},
   "source": [
    "An example of a round could be {100, 2, 5, 6, 7, 8}"
   ]
  },
  {
   "cell_type": "markdown",
   "id": "744ddba5-f423-4038-9be4-daf2c89849ff",
   "metadata": {},
   "source": [
    "With a target of $562$"
   ]
  },
  {
   "cell_type": "markdown",
   "id": "694ae5e4-5503-461c-a60b-72903bc59631",
   "metadata": {},
   "source": [
    "This can be achieved using the following solution: $(100 X 5) + (8 X 7) + 6 = 562$"
   ]
  },
  {
   "cell_type": "code",
   "execution_count": null,
   "id": "788ecd83-5e66-4e84-821d-75cb27431566",
   "metadata": {},
   "outputs": [],
   "source": []
  }
 ],
 "metadata": {
  "kernelspec": {
   "display_name": "Python 3",
   "language": "python",
   "name": "python3"
  },
  "language_info": {
   "codemirror_mode": {
    "name": "ipython",
    "version": 3
   },
   "file_extension": ".py",
   "mimetype": "text/x-python",
   "name": "python",
   "nbconvert_exporter": "python",
   "pygments_lexer": "ipython3",
   "version": "3.8.8"
  }
 },
 "nbformat": 4,
 "nbformat_minor": 5
}
