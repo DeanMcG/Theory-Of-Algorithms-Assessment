{
 "cells": [
  {
   "cell_type": "markdown",
   "id": "81d83486-7a9b-4fb3-8160-bffa6a8fd3f0",
   "metadata": {},
   "source": [
    "### Playing with itertools"
   ]
  },
  {
   "cell_type": "code",
   "execution_count": 2,
   "id": "9d2906df-eb74-466e-a3ba-ba7f933306ff",
   "metadata": {},
   "outputs": [],
   "source": [
    "import itertools as it"
   ]
  },
  {
   "cell_type": "code",
   "execution_count": 9,
   "id": "9aa67057-ea5a-450e-8e56-e43cebd43140",
   "metadata": {},
   "outputs": [
    {
     "data": {
      "text/plain": [
       "[(1, 2, 3, 4), (5, 6, 7, 8)]"
      ]
     },
     "execution_count": 9,
     "metadata": {},
     "output_type": "execute_result"
    }
   ],
   "source": [
    "#Not efficient, requires a lot of memory and time\n",
    "def naive_grouper(inputs, n):\n",
    "    num_groups = len(inputs) // n\n",
    "    return [tuple(inputs[i*n:(i+1)*n]) for i in range(num_groups)]\n",
    "\n",
    "nums = [1,2,3,4,5,6,7,8,9,10]\n",
    "naive_grouper(nums, 4)"
   ]
  },
  {
   "cell_type": "code",
   "execution_count": 11,
   "id": "8309534f-781b-4b3b-b295-af037cb21d32",
   "metadata": {},
   "outputs": [
    {
     "data": {
      "text/plain": [
       "[(1, 2, 3, 4), (5, 6, 7, 8)]"
      ]
     },
     "execution_count": 11,
     "metadata": {},
     "output_type": "execute_result"
    }
   ],
   "source": [
    "#More efficient, requires much less memory and is quicker\n",
    "def better_grouper(inputs, n):\n",
    "    iters = [iter(inputs)] * n\n",
    "    return zip(*iters)\n",
    "\n",
    "nums = [1,2,3,4,5,6,7,8,9,10]\n",
    "list(better_grouper(nums, 4))"
   ]
  },
  {
   "cell_type": "code",
   "execution_count": 12,
   "id": "eecd2767-c8cb-415c-9b67-b7ede87c89fb",
   "metadata": {},
   "outputs": [
    {
     "name": "stdout",
     "output_type": "stream",
     "text": [
      "[(1, 2, 3, 4), (5, 6, 7, 8), (9, 10, None, None)]\n"
     ]
    }
   ],
   "source": [
    "#This grouper accounts for n not being a factor of the length of list inputs\n",
    "def grouper(inputs, n, fillvalue=None):\n",
    "    iters = [iter(inputs)] * n\n",
    "    return it.zip_longest(*iters, fillvalue=fillvalue)\n",
    "\n",
    "nums = [1,2,3,4,5,6,7,8,9,10]\n",
    "print(list(grouper(nums, 4)))"
   ]
  },
  {
   "cell_type": "code",
   "execution_count": null,
   "id": "32df9eb5-faf1-4951-89c8-8cb4cd4a94c5",
   "metadata": {},
   "outputs": [],
   "source": []
  },
  {
   "cell_type": "markdown",
   "id": "55a0e1b4-9145-4355-8a34-b6d038d7d095",
   "metadata": {},
   "source": [
    "## Change for 100"
   ]
  },
  {
   "cell_type": "markdown",
   "id": "0c4d2140-d8fc-4dba-afe7-b621fc59d937",
   "metadata": {},
   "source": [
    "You have three \\\\$20 dollar bills, five \\\\$10 dollar bills, two \\\\$5 dollar bills, and five \\\\$1 dollar bills. How many ways can you make change for a \\\\$100 dollar bill?"
   ]
  },
  {
   "cell_type": "code",
   "execution_count": 13,
   "id": "7719d60a-4a55-4c97-bff6-b43745beb9b1",
   "metadata": {},
   "outputs": [],
   "source": [
    "#Firstly, list all bills available\n",
    "bills = [20, 20, 20, 10, 10, 10, 10, 10, 5, 5, 1, 1, 1, 1, 1]"
   ]
  },
  {
   "cell_type": "code",
   "execution_count": 16,
   "id": "08dff290-4a32-469b-9762-beeccd00fd89",
   "metadata": {},
   "outputs": [
    {
     "name": "stdout",
     "output_type": "stream",
     "text": [
      "44\n"
     ]
    }
   ],
   "source": [
    "#Empty list we will populate with possible combinations that sum to 100\n",
    "makes_100 = []\n",
    "\n",
    "#This loops through all integers in the range 1 to length of list bills + 1, and checks which combinations will sum to 100.\n",
    "# It then appends these correct combinations to the list makes_100\n",
    "for n in range(1, len(bills) + 1):\n",
    "    for combination in it.combinations(bills, n):\n",
    "        if sum(combination) == 100:\n",
    "            makes_100.append(combination)\n",
    "            \n",
    "print(len(makes_100))"
   ]
  },
  {
   "cell_type": "markdown",
   "id": "7f1509c2-c069-4ce1-97aa-428c2c4989aa",
   "metadata": {},
   "source": [
    "There are 44 combinations of bills that can make 100 dollars from the bills we have. However, this is including the duplicate combinations. For example, three 20 dollar bills and four 10 dollar bills using the first,second,third,fourth 10 dollar bills and three 20 dollar bills with four 10 dollar bills using the second,third,fourth,fifth bills. These are the same combination. We must make it a set to remove these."
   ]
  },
  {
   "cell_type": "code",
   "execution_count": 17,
   "id": "cdabe141-1d51-4fef-a25c-80cc2f4e17f1",
   "metadata": {},
   "outputs": [
    {
     "data": {
      "text/plain": [
       "{(20, 20, 10, 10, 10, 10, 10, 5, 1, 1, 1, 1, 1),\n",
       " (20, 20, 10, 10, 10, 10, 10, 5, 5),\n",
       " (20, 20, 20, 10, 10, 10, 5, 1, 1, 1, 1, 1),\n",
       " (20, 20, 20, 10, 10, 10, 5, 5),\n",
       " (20, 20, 20, 10, 10, 10, 10)}"
      ]
     },
     "execution_count": 17,
     "metadata": {},
     "output_type": "execute_result"
    }
   ],
   "source": [
    "set(makes_100)"
   ]
  },
  {
   "cell_type": "markdown",
   "id": "4c2c3281-1994-43d1-a75c-015f290095d3",
   "metadata": {},
   "source": [
    "There are 5 unique combinations to make 100 from the bills we have."
   ]
  },
  {
   "cell_type": "markdown",
   "id": "8ee57a23-abb7-408b-bbca-98cbf03871ae",
   "metadata": {},
   "source": [
    "---"
   ]
  },
  {
   "cell_type": "markdown",
   "id": "3177c917-72ba-448d-97d6-d7916521640d",
   "metadata": {},
   "source": [
    "##### How many ways are there to make change for a $100 bill using any number of \\\\$50, \\\\$20, \\\\$10, \\\\$5, and \\\\$1 dollar bills?"
   ]
  },
  {
   "cell_type": "code",
   "execution_count": 19,
   "id": "e8118bca-b2ef-45c2-aaf7-2fd059bbe8a4",
   "metadata": {},
   "outputs": [
    {
     "name": "stdout",
     "output_type": "stream",
     "text": [
      "730\n"
     ]
    }
   ],
   "source": [
    "#Available types of bills - no set amount of bills, only values available\n",
    "bills = [50, 20, 10, 5, 1]\n",
    "\n",
    "#Empty list for possible combinations to be appended to.\n",
    "make_100 = []\n",
    "\n",
    " \n",
    "for n in range(1, 101):\n",
    "    for combination in it.combinations_with_replacement(bills, n):\n",
    "        if sum(combination) == 100:\n",
    "            makes_100.append(combination)\n",
    "            \n",
    "print(len(makes_100))"
   ]
  },
  {
   "cell_type": "code",
   "execution_count": null,
   "id": "42a332b6-a475-4ac8-bdd4-b245e7e0a617",
   "metadata": {},
   "outputs": [],
   "source": []
  }
 ],
 "metadata": {
  "kernelspec": {
   "display_name": "Python 3",
   "language": "python",
   "name": "python3"
  },
  "language_info": {
   "codemirror_mode": {
    "name": "ipython",
    "version": 3
   },
   "file_extension": ".py",
   "mimetype": "text/x-python",
   "name": "python",
   "nbconvert_exporter": "python",
   "pygments_lexer": "ipython3",
   "version": "3.8.8"
  }
 },
 "nbformat": 4,
 "nbformat_minor": 5
}
